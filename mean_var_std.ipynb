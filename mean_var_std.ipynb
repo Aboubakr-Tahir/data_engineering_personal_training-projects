{
 "cells": [
  {
   "cell_type": "code",
   "execution_count": 2,
   "metadata": {},
   "outputs": [],
   "source": [
    "import numpy as np"
   ]
  },
  {
   "cell_type": "code",
   "execution_count": 29,
   "metadata": {},
   "outputs": [
    {
     "name": "stdout",
     "output_type": "stream",
     "text": [
      "{'mean': [[3.0, 4.0, 5.0], [1.0, 4.0, 7.0], 4.0], 'variance': [[6.0, 6.0, 6.0], [0.6666666666666666, 0.6666666666666666, 0.6666666666666666], 6.666666666666667], 'standard deviation': [[2.449489742783178, 2.449489742783178, 2.449489742783178], [0.816496580927726, 0.816496580927726, 0.816496580927726], 2.581988897471611], 'max': [[6, 7, 8], [2, 5, 8], 8.0], 'min': [[0, 1, 2], [0, 3, 6], 0.0], 'sum': [[9, 12, 15], [3, 12, 21], 36.0]}\n"
     ]
    },
    {
     "data": {
      "text/plain": [
       "float"
      ]
     },
     "execution_count": 29,
     "metadata": {},
     "output_type": "execute_result"
    }
   ],
   "source": [
    "import numpy as np\n",
    "\n",
    "def calculate(items) :\n",
    "    if len(items) != 9 :\n",
    "        raise ValueError('List must contain nine numbers.')\n",
    "    Arr = np.array(items) \n",
    "    Arr = Arr.reshape(3,3) \n",
    "    keys = ['mean','variance','standard deviation','max','min','sum']\n",
    "    output_dict = {key : [] for key in keys} \n",
    "    output_dict['mean'].extend([Arr.mean(axis=0).tolist(),Arr.mean(axis=1).tolist(),float(Arr.mean())])\n",
    "    output_dict['variance'].extend([Arr.var(axis=0).tolist(),Arr.var(axis=1).tolist(),float(Arr.var())])\n",
    "    output_dict['standard deviation'].extend([Arr.std(axis=0).tolist(),Arr.std(axis=1).tolist(),float(Arr.std())]) \n",
    "    output_dict['max'].extend([Arr.max(axis=0).tolist(),Arr.max(axis=1).tolist(),float(Arr.max())]) \n",
    "    output_dict['min'].extend([Arr.min(axis=0).tolist(),Arr.min(axis=1).tolist(),float(Arr.min())]) \n",
    "    output_dict['sum'].extend([Arr.sum(axis=0).tolist(),Arr.sum(axis=1).tolist(),float(Arr.sum())]) \n",
    "    return output_dict\n",
    "\n",
    "\n"
   ]
  },
  {
   "cell_type": "markdown",
   "metadata": {},
   "source": [
    "[[0 1 2] \n",
    " [3 4 5] \n",
    " [6 7 8]]"
   ]
  }
 ],
 "metadata": {
  "kernelspec": {
   "display_name": "Python 3",
   "language": "python",
   "name": "python3"
  },
  "language_info": {
   "codemirror_mode": {
    "name": "ipython",
    "version": 3
   },
   "file_extension": ".py",
   "mimetype": "text/x-python",
   "name": "python",
   "nbconvert_exporter": "python",
   "pygments_lexer": "ipython3",
   "version": "3.13.1"
  }
 },
 "nbformat": 4,
 "nbformat_minor": 2
}
